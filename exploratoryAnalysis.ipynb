{
 "cells": [
  {
   "cell_type": "heading",
   "metadata": {},
   "level": 1,
   "source": [
    ""
   ]
  },
  {
   "cell_type": "markdown",
   "metadata": {},
   "source": [
    "# Exploratory analysis of Enron data\n",
    "\n",
    "The task here is explore the enron dataset to get a feel of the data. We should take a rough look at the different features to get their types, and some descriptive statistics from them.\n",
    "\n",
    "Also we should see if we can take out some outliers from the dataset."
   ]
  },
  {
   "cell_type": "markdown",
   "metadata": {},
   "source": [
    "Lets start by loading the dataset to a dict and printing its keys"
   ]
  },
  {
   "cell_type": "code",
   "execution_count": 12,
   "metadata": {},
   "outputs": [
    {
     "name": "stdout",
     "output_type": "stream",
     "text": [
      "['METTS MARK',\n 'BAXTER JOHN C',\n 'ELLIOTT STEVEN',\n 'CORDES WILLIAM R',\n 'HANNON KEVIN P',\n 'MORDAUNT KRISTINA M',\n 'MEYER ROCKFORD G',\n 'MCMAHON JEFFREY',\n 'HORTON STANLEY C',\n 'PIPER GREGORY F']\n"
     ]
    }
   ],
   "source": [
    "import pickle\n",
    "import pprint\n",
    "import numpy as np\n",
    "### Load the dataset and make it a dict (easy since it's a pickle):\n",
    "dataset = '/Users/tvikkula/Dev/python/datascience/' +\\\n",
    "          'machineLearn/detect-enron-poi/final_project_dataset.pkl'\n",
    "data_dict = pickle.load(open(dataset, \"r\") )\n",
    "\n",
    "### Check keys of the data_dict\n",
    "pprint.pprint(data_dict.keys()[0:10])"
   ]
  },
  {
   "cell_type": "markdown",
   "metadata": {},
   "source": [
    "It looks like the keys are the names of each person in the dataset. Lets continue exploring the data by printing each key of a certain person."
   ]
  },
  {
   "cell_type": "code",
   "execution_count": 2,
   "metadata": {},
   "outputs": [
    {
     "name": "stdout",
     "output_type": "stream",
     "text": [
      "Feature types:\n\nsalary <type 'int'>\nto_messages <type 'int'>\ndeferral_payments <type 'str'>\ntotal_payments <type 'int'>\nexercised_stock_options <type 'str'>\nbonus <type 'int'>\nrestricted_stock <type 'int'>\nshared_receipt_with_poi <type 'int'>\nrestricted_stock_deferred <type 'str'>\ntotal_stock_value <type 'int'>\nexpenses <type 'int'>\nloan_advances <type 'str'>\nfrom_messages <type 'int'>\nother <type 'int'>\nfrom_this_person_to_poi <type 'int'>\npoi <type 'bool'>\ndirector_fees <type 'str'>\ndeferred_income <type 'str'>\nlong_term_incentive <type 'str'>\nemail_address <type 'str'>\nfrom_poi_to_this_person <type 'int'>\n"
     ]
    }
   ],
   "source": [
    "print 'Feature types:\\n'\n",
    "for key, value in data_dict.itervalues().next().iteritems():\n",
    "    print key,type(value)"
   ]
  },
  {
   "cell_type": "markdown",
   "metadata": {},
   "source": [
    "Lets format the data a bit so we can explore it easier."
   ]
  },
  {
   "cell_type": "code",
   "execution_count": 5,
   "metadata": {},
   "outputs": [
    {
     "name": "stdout",
     "output_type": "stream",
     "text": [
      "[(name, max, min, mean)]\n[('poi', 1.0, 0.0, 0.12413793103448276),\n ('salary', 26704229.0, 0.0, 368334.19310344825),\n ('to_messages', 15149.0, 0.0, 1230.0137931034483),\n ('deferral_payments', 32083396.0, -102500.0, 441822.70344827586),\n ('total_payments', 309886585.0, 0.0, 4380626.2827586206),\n ('exercised_stock_options', 311764000.0, 0.0, 4211582.6551724141),\n ('bonus', 97343619.0, 0.0, 1342670.6068965518),\n ('restricted_stock', 130322299.0, -2604490.0, 1761320.8620689656),\n ('shared_receipt_with_poi', 5521.0, 0.0, 697.76551724137926),\n ('restricted_stock_deferred', 15456290.0, -7576788.0, 20657.862068965518),\n ('total_stock_value', 434509511.0, -44093.0, 5886335.4413793106),\n ('expenses', 5235198.0, 0.0, 71236.186206896557),\n ('loan_advances', 83925000.0, 0.0, 1157586.2068965517),\n ('from_messages', 14368.0, 0.0, 361.07586206896553),\n ('other', 42667589.0, 0.0, 589469.25517241377),\n ('from_this_person_to_poi', 609.0, 0.0, 24.455172413793104),\n ('director_fees', 1398517.0, 0.0, 19556.434482758621),\n ('deferred_income', 0.0, -27992891.0, -385401.94482758618),\n ('long_term_incentive', 48521928.0, 0.0, 669267.97241379309),\n ('from_poi_to_this_person', 528.0, 0.0, 38.489655172413791)]\n"
     ]
    }
   ],
   "source": [
    "import sys\n",
    "sys.path.append('/Users/tvikkula/Dev/python/datascience/' +\\\n",
    "          'machineLearn/ud120-projects/tools')\n",
    "sys.path.append('/Users/tvikkula/Dev/python/datascience/' +\\\n",
    "          'machineLearn/detect-enron-poi/')\n",
    "from preprocess import *\n",
    "from feature_format import featureFormat, targetFeatureSplit\n",
    "features_list = getallFeatures(data_dict)\n",
    "### Extract features and labels from dataset for local testing\n",
    "data = featureFormat(data_dict, features_list, sort_keys = True)\n",
    "print '[(name, max, min, mean)]'\n",
    "pprint.pprint(zip(features_list, data.max(axis=0), data.min(axis=0),\n",
    "                  data.mean(axis=0)))"
   ]
  },
  {
   "cell_type": "markdown",
   "metadata": {},
   "source": [
    "The max-values of each of these variables are massive. This is due to the fact that one of the keys in data_dict are mapped to the person 'TOTAL', which is of course an outlier"
   ]
  },
  {
   "cell_type": "code",
   "execution_count": 8,
   "metadata": {},
   "outputs": [
    {
     "name": "stdout",
     "output_type": "stream",
     "text": [
      "[(name, max, min, mean)]\n[('poi', 1.0, 0.0, 0.125),\n ('salary', 1111258.0, 0.0, 185446.03472222222),\n ('to_messages', 15149.0, 0.0, 1238.5555555555557),\n ('deferral_payments', 6426990.0, -102500.0, 222089.55555555556),\n ('total_payments', 103559793.0, 0.0, 2259057.125),\n ('exercised_stock_options', 34348384.0, 0.0, 2075801.9791666667),\n ('bonus', 8000000.0, 0.0, 675997.35416666663),\n ('restricted_stock', 14761694.0, -2604490.0, 868536.29166666663),\n ('shared_receipt_with_poi', 5521.0, 0.0, 702.61111111111109),\n ('restricted_stock_deferred', 15456290.0, -1787380.0, 73417.902777777781),\n ('total_stock_value', 49110078.0, -44093.0, 2909785.611111111),\n ('expenses', 228763.0, 0.0, 35375.340277777781),\n ('loan_advances', 81525000.0, 0.0, 582812.5),\n ('from_messages', 14368.0, 0.0, 363.58333333333331),\n ('other', 10359729.0, 0.0, 297260.09027777775),\n ('from_this_person_to_poi', 609.0, 0.0, 24.625),\n ('director_fees', 137864.0, 0.0, 9980.3194444444453),\n ('deferred_income', 0.0, -3504386.0, -193683.27083333334),\n ('long_term_incentive', 5145434.0, 0.0, 336957.83333333331),\n ('from_poi_to_this_person', 528.0, 0.0, 38.756944444444443)]\n"
     ]
    }
   ],
   "source": [
    "data_dict.pop('TOTAL', None)\n",
    "\n",
    "data = featureFormat(data_dict, features_list, sort_keys = True)\n",
    "print '[(name, max, min, mean)]'\n",
    "pprint.pprint(zip(features_list, data.max(axis=0), data.min(axis=0),\n",
    "                  data.mean(axis=0)))"
   ]
  },
  {
   "cell_type": "markdown",
   "metadata": {},
   "source": [
    "The max-values are now quite a bit more reasonable. Lets now add median and std to the table:"
   ]
  },
  {
   "cell_type": "code",
   "execution_count": 14,
   "metadata": {},
   "outputs": [
    {
     "name": "stdout",
     "output_type": "stream",
     "text": [
      "[(name, max, min, mean, median, std)]\n[('poi', 1.0, 0.0, 0.125, 0.0, 0.33071891388307384),\n ('salary', 1111258.0, 0.0, 185446.03472222222, 210596.0, 196356.75782139692),\n ('to_messages', 15149.0, 0.0, 1238.5555555555557, 347.5, 2229.7819580055161),\n ('deferral_payments',\n  6426990.0,\n  -102500.0,\n  222089.55555555556,\n  0.0,\n  751478.33357818064),\n ('total_payments',\n  103559793.0,\n  0.0,\n  2259057.125,\n  941359.5,\n  8815823.5265710335),\n ('exercised_stock_options',\n  34348384.0,\n  0.0,\n  2075801.9791666667,\n  608293.5,\n  4778833.0489782216),\n ('bonus', 8000000.0, 0.0, 675997.35416666663, 300000.0, 1228866.007269375),\n ('restricted_stock',\n  14761694.0,\n  -2604490.0,\n  868536.29166666663,\n  360528.0,\n  2009558.2026330493),\n ('shared_receipt_with_poi',\n  5521.0,\n  0.0,\n  702.61111111111109,\n  114.0,\n  1073.543626598321),\n ('restricted_stock_deferred',\n  15456290.0,\n  -1787380.0,\n  73417.902777777781,\n  0.0,\n  1297454.7387758635),\n ('total_stock_value',\n  49110078.0,\n  -44093.0,\n  2909785.611111111,\n  965955.0,\n  6167490.9904278889),\n ('expenses', 228763.0, 0.0, 35375.340277777781, 20182.0, 45151.70498475161),\n ('loan_advances', 81525000.0, 0.0, 582812.5, 0.0, 6770838.7620170461),\n ('from_messages', 14368.0, 0.0, 363.58333333333331, 17.5, 1445.6293972407545),\n ('other', 10359729.0, 0.0, 297260.09027777775, 959.5, 1127133.9690315127),\n ('from_this_person_to_poi', 609.0, 0.0, 24.625, 0.0, 79.500775240804344),\n ('director_fees', 137864.0, 0.0, 9980.3194444444453, 0.0, 31191.70324863218),\n ('deferred_income',\n  0.0,\n  -3504386.0,\n  -193683.27083333334,\n  0.0,\n  603903.26391528104),\n ('long_term_incentive',\n  5145434.0,\n  0.0,\n  336957.83333333331,\n  0.0,\n  684792.36017374916),\n ('from_poi_to_this_person',\n  528.0,\n  0.0,\n  38.756944444444443,\n  4.0,\n  74.018414237398673)]\n"
     ]
    }
   ],
   "source": [
    "print '[(name, max, min, mean, median, std)]'\n",
    "pprint.pprint(zip(features_list, data.max(axis=0), data.min(axis=0),\n",
    "                  np.mean(data, axis=0), np.median(data, axis=0), np.std(data, axis=0)))"
   ]
  },
  {
   "cell_type": "markdown",
   "metadata": {},
   "source": [
    "Lets plot these features to see how the descriptive stats really look like. Before doing this, lets normalize each feature in order to not distort the visualization.\n",
    "\n",
    "The normalization function will be the following:\n",
    "$$X_{normalized} = \\frac{X - X_{min}}{X_{max} - X_{min}}"
   ]
  },
  {
   "cell_type": "code",
   "execution_count": 28,
   "metadata": {},
   "outputs": [],
   "source": [
    "mins = np.min(data, axis=0)\n",
    "maxs = np.max(data, axis=0)\n",
    "data_normal = (data-mins)/(mins-maxs)"
   ]
  },
  {
   "cell_type": "markdown",
   "metadata": {},
   "source": [
    "After normalizing the data, lets make it a pandas dataframe"
   ]
  },
  {
   "cell_type": "code",
   "execution_count": 29,
   "metadata": {},
   "outputs": [
    {
     "name": "stdout",
     "output_type": "stream",
     "text": [
      "              poi      salary  to_messages  deferral_payments  total_payments  \\\ncount  144.000000  144.000000   144.000000         144.000000      144.000000   \nmean    -0.125000   -0.166879    -0.081758          -0.049711       -0.021814   \nstd      0.331873    0.177314     0.147704           0.115492        0.085425   \nmin     -1.000000   -1.000000    -1.000000          -1.000000       -1.000000   \n25%     -0.000000   -0.242669    -0.107136          -0.017005       -0.018788   \n50%     -0.000000   -0.189511    -0.022939          -0.015698       -0.009090   \n75%     -0.000000   -0.000000    -0.000000          -0.015698       -0.000962   \nmax     -0.000000   -0.000000    -0.000000          -0.000000       -0.000000   \n\n       exercised_stock_options       bonus  restricted_stock  \\\ncount               144.000000  144.000000        144.000000   \nmean                 -0.060434   -0.084500         -0.199988   \nstd                   0.139614    0.154144          0.116121   \nmin                  -1.000000   -1.000000         -1.000000   \n25%                  -0.049015   -0.100000         -0.192440   \n50%                  -0.017710   -0.037500         -0.170735   \n75%                  -0.000000   -0.000000         -0.151377   \nmax                  -0.000000   -0.000000         -0.000000   \n\n       shared_receipt_with_poi  restricted_stock_deferred  total_stock_value  \\\ncount               144.000000                 144.000000         144.000000   \nmean                 -0.127262                  -0.107912          -0.060094   \nstd                   0.195126                   0.075505           0.125910   \nmin                  -1.000000                  -1.000000          -1.000000   \n25%                  -0.169127                  -0.103654          -0.047590   \n50%                  -0.020648                  -0.103654          -0.020549   \n75%                  -0.000000                  -0.103654          -0.005868   \nmax                  -0.000000                  -0.000000          -0.000000   \n\n         expenses  loan_advances  from_messages       other  \\\ncount  144.000000     144.000000     144.000000  144.000000   \nmean    -0.154638      -0.007149      -0.025305   -0.028694   \nstd      0.198062       0.083342       0.100966    0.109179   \nmin     -1.000000      -1.000000      -1.000000   -1.000000   \n25%     -0.233116      -0.000000      -0.003689   -0.014528   \n50%     -0.088222      -0.000000      -0.001218   -0.000093   \n75%     -0.000000      -0.000000      -0.000000   -0.000000   \nmax     -0.000000      -0.000000      -0.000000   -0.000000   \n\n       from_this_person_to_poi  director_fees  deferred_income  \\\ncount               144.000000     144.000000       144.000000   \nmean                 -0.040435      -0.072392        -0.944731   \nstd                   0.130999       0.227040         0.172929   \nmin                  -1.000000      -1.000000        -1.000000   \n25%                  -0.022989      -0.000000        -1.000000   \n50%                  -0.000000      -0.000000        -1.000000   \n75%                  -0.000000      -0.000000        -0.989417   \nmax                  -0.000000      -0.000000        -0.000000   \n\n       long_term_incentive  from_poi_to_this_person  \ncount           144.000000               144.000000  \nmean             -0.065487                -0.073403  \nstd               0.133552                 0.140676  \nmin              -1.000000                -1.000000  \n25%              -0.072800                -0.078125  \n50%              -0.000000                -0.007576  \n75%              -0.000000                -0.000000  \nmax              -0.000000                -0.000000  \n"
     ]
    }
   ],
   "source": [
    "from ggplot import *\n",
    "import pandas as pd\n",
    "df = pd.DataFrame(data_normal, columns=features_list)\n",
    "print df.describe()"
   ]
  },
  {
   "cell_type": "code",
   "execution_count": 27,
   "metadata": {},
   "outputs": [],
   "source": [
    ""
   ]
  },
  {
   "cell_type": "code",
   "execution_count": null,
   "metadata": {},
   "outputs": [],
   "source": [
    ""
   ]
  }
 ],
 "metadata": {},
 "nbformat": 4,
 "nbformat_minor": 0
}