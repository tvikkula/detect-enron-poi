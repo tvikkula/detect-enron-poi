{
 "cells": [
  {
   "cell_type": "markdown",
   "metadata": {},
   "source": [
    "# Exploratory analysis of Enron data\n",
    "\n",
    "The task here is explore the enron dataset to get a feel of the data. We should take a rough look at the different features to get their types, and some descriptive statistics from them.\n",
    "\n",
    "Also we should see if we can take out some outliers from the dataset."
   ]
  },
  {
   "cell_type": "markdown",
   "metadata": {},
   "source": [
    "Lets start by loading the dataset to a dict and printing its keys"
   ]
  },
  {
   "cell_type": "code",
   "execution_count": 1,
   "metadata": {
    "collapsed": false
   },
   "outputs": [
    {
     "name": "stdout",
     "output_type": "stream",
     "text": [
      "['METTS MARK',\n",
      " 'BAXTER JOHN C',\n",
      " 'ELLIOTT STEVEN',\n",
      " 'CORDES WILLIAM R',\n",
      " 'HANNON KEVIN P',\n",
      " 'MORDAUNT KRISTINA M',\n",
      " 'MEYER ROCKFORD G',\n",
      " 'MCMAHON JEFFREY',\n",
      " 'HORTON STANLEY C',\n",
      " 'PIPER GREGORY F']\n"
     ]
    }
   ],
   "source": [
    "import pickle\n",
    "import pprint\n",
    "import matplotlib\n",
    "import matplotlib.pyplot as plt\n",
    "%matplotlib inline\n",
    "import pandas as pd\n",
    "import numpy as np\n",
    "### Load the dataset and make it a dict (easy since it's a pickle):\n",
    "dataset = '/Users/tvikkula/Dev/python/datascience/' +\\\n",
    "          'machineLearn/detect-enron-poi/final_project_dataset.pkl'\n",
    "data_dict = pickle.load(open(dataset, \"r\") )\n",
    "\n",
    "### Check keys of the data_dict\n",
    "pprint.pprint(data_dict.keys()[0:10])"
   ]
  },
  {
   "cell_type": "markdown",
   "metadata": {},
   "source": [
    "It looks like the keys are the names of each person in the dataset. Lets continue exploring the data by printing each key of a certain person."
   ]
  },
  {
   "cell_type": "markdown",
   "metadata": {},
   "source": [
    "Lets print all of the keys to see if there are any outliers"
   ]
  },
  {
   "cell_type": "code",
   "execution_count": 2,
   "metadata": {
    "collapsed": false
   },
   "outputs": [
    {
     "name": "stdout",
     "output_type": "stream",
     "text": [
      "['METTS MARK',\n",
      " 'BAXTER JOHN C',\n",
      " 'ELLIOTT STEVEN',\n",
      " 'CORDES WILLIAM R',\n",
      " 'HANNON KEVIN P',\n",
      " 'MORDAUNT KRISTINA M',\n",
      " 'MEYER ROCKFORD G',\n",
      " 'MCMAHON JEFFREY',\n",
      " 'HORTON STANLEY C',\n",
      " 'PIPER GREGORY F',\n",
      " 'HUMPHREY GENE E',\n",
      " 'UMANOFF ADAM S',\n",
      " 'BLACHMAN JEREMY M',\n",
      " 'SUNDE MARTIN',\n",
      " 'GIBBS DANA R',\n",
      " 'LOWRY CHARLES P',\n",
      " 'COLWELL WESLEY',\n",
      " 'MULLER MARK S',\n",
      " 'JACKSON CHARLENE R',\n",
      " 'WESTFAHL RICHARD K',\n",
      " 'WALTERS GARETH W',\n",
      " 'WALLS JR ROBERT H',\n",
      " 'KITCHEN LOUISE',\n",
      " 'CHAN RONNIE',\n",
      " 'BELFER ROBERT',\n",
      " 'SHANKMAN JEFFREY A',\n",
      " 'WODRASKA JOHN',\n",
      " 'BERGSIEKER RICHARD P',\n",
      " 'URQUHART JOHN A',\n",
      " 'BIBI PHILIPPE A',\n",
      " 'RIEKER PAULA H',\n",
      " 'WHALEY DAVID A',\n",
      " 'BECK SALLY W',\n",
      " 'HAUG DAVID L',\n",
      " 'ECHOLS JOHN B',\n",
      " 'MENDELSOHN JOHN',\n",
      " 'HICKERSON GARY J',\n",
      " 'CLINE KENNETH W',\n",
      " 'LEWIS RICHARD',\n",
      " 'HAYES ROBERT E',\n",
      " 'MCCARTY DANNY J',\n",
      " 'KOPPER MICHAEL J',\n",
      " 'LEFF DANIEL P',\n",
      " 'LAVORATO JOHN J',\n",
      " 'BERBERIAN DAVID',\n",
      " 'DETMERING TIMOTHY J',\n",
      " 'WAKEHAM JOHN',\n",
      " 'POWERS WILLIAM',\n",
      " 'GOLD JOSEPH',\n",
      " 'BANNANTINE JAMES M',\n",
      " 'DUNCAN JOHN H',\n",
      " 'SHAPIRO RICHARD S',\n",
      " 'SHERRIFF JOHN R',\n",
      " 'SHELBY REX',\n",
      " 'LEMAISTRE CHARLES',\n",
      " 'DEFFNER JOSEPH M',\n",
      " 'KISHKILL JOSEPH G',\n",
      " 'WHALLEY LAWRENCE G',\n",
      " 'MCCONNELL MICHAEL S',\n",
      " 'PIRO JIM',\n",
      " 'DELAINEY DAVID W',\n",
      " 'SULLIVAN-SHAKLOVITZ COLLEEN',\n",
      " 'WROBEL BRUCE',\n",
      " 'LINDHOLM TOD A',\n",
      " 'MEYER JEROME J',\n",
      " 'LAY KENNETH L',\n",
      " 'BUTTS ROBERT H',\n",
      " 'OLSON CINDY K',\n",
      " 'MCDONALD REBECCA',\n",
      " 'CUMBERLAND MICHAEL S',\n",
      " 'GAHN ROBERT S',\n",
      " 'MCCLELLAN GEORGE',\n",
      " 'HERMANN ROBERT J',\n",
      " 'SCRIMSHAW MATTHEW',\n",
      " 'GATHMANN WILLIAM D',\n",
      " 'HAEDICKE MARK E',\n",
      " 'BOWEN JR RAYMOND M',\n",
      " 'GILLIS JOHN',\n",
      " 'FITZGERALD JAY L',\n",
      " 'MORAN MICHAEL P',\n",
      " 'REDMOND BRIAN L',\n",
      " 'BAZELIDES PHILIP J',\n",
      " 'BELDEN TIMOTHY N',\n",
      " 'DURAN WILLIAM D',\n",
      " 'THORN TERENCE H',\n",
      " 'FASTOW ANDREW S',\n",
      " 'FOY JOE',\n",
      " 'CALGER CHRISTOPHER F',\n",
      " 'RICE KENNETH D',\n",
      " 'KAMINSKI WINCENTY J',\n",
      " 'LOCKHART EUGENE E',\n",
      " 'COX DAVID',\n",
      " 'OVERDYKE JR JERE C',\n",
      " 'PEREIRA PAULO V. FERRAZ',\n",
      " 'STABLER FRANK',\n",
      " 'SKILLING JEFFREY K',\n",
      " 'BLAKE JR. NORMAN P',\n",
      " 'SHERRICK JEFFREY B',\n",
      " 'PRENTICE JAMES',\n",
      " 'GRAY RODNEY',\n",
      " 'PICKERING MARK R',\n",
      " 'THE TRAVEL AGENCY IN THE PARK',\n",
      " 'NOLES JAMES L',\n",
      " 'KEAN STEVEN J',\n",
      " 'TOTAL',\n",
      " 'FOWLER PEGGY',\n",
      " 'WASAFF GEORGE',\n",
      " 'WHITE JR THOMAS E',\n",
      " 'CHRISTODOULOU DIOMEDES',\n",
      " 'ALLEN PHILLIP K',\n",
      " 'SHARP VICTORIA T',\n",
      " 'JAEDICKE ROBERT',\n",
      " 'WINOKUR JR. HERBERT S',\n",
      " 'BROWN MICHAEL',\n",
      " 'BADUM JAMES P',\n",
      " 'HUGHES JAMES A',\n",
      " 'REYNOLDS LAWRENCE',\n",
      " 'DIMICHELE RICHARD G',\n",
      " 'BHATNAGAR SANJAY',\n",
      " 'CARTER REBECCA C',\n",
      " 'BUCHANAN HAROLD G',\n",
      " 'YEAP SOON',\n",
      " 'MURRAY JULIA H',\n",
      " 'GARLAND C KEVIN',\n",
      " 'DODSON KEITH',\n",
      " 'YEAGER F SCOTT',\n",
      " 'HIRKO JOSEPH',\n",
      " 'DIETRICH JANET R',\n",
      " 'DERRICK JR. JAMES V',\n",
      " 'FREVERT MARK A',\n",
      " 'PAI LOU L',\n",
      " 'BAY FRANKLIN R',\n",
      " 'HAYSLETT RODERICK J',\n",
      " 'FUGH JOHN L',\n",
      " 'FALLON JAMES B',\n",
      " 'KOENIG MARK E',\n",
      " 'SAVAGE FRANK',\n",
      " 'IZZO LAWRENCE L',\n",
      " 'TILNEY ELIZABETH A',\n",
      " 'MARTIN AMANDA K',\n",
      " 'BUY RICHARD B',\n",
      " 'GRAMM WENDY L',\n",
      " 'CAUSEY RICHARD A',\n",
      " 'TAYLOR MITCHELL S',\n",
      " 'DONAHUE JR JEFFREY M',\n",
      " 'GLISAN JR BEN F']\n"
     ]
    }
   ],
   "source": [
    "pprint.pprint(data_dict.keys())"
   ]
  },
  {
   "cell_type": "markdown",
   "metadata": {},
   "source": [
    "There seem to be two quite interesting keys: TOTAL and THE TRAVEL AGENCY IN THE PARK. Lets take a look at what kind of data they include:"
   ]
  },
  {
   "cell_type": "code",
   "execution_count": 3,
   "metadata": {
    "collapsed": false
   },
   "outputs": [
    {
     "name": "stdout",
     "output_type": "stream",
     "text": [
      "{'bonus': 97343619,\n",
      " 'deferral_payments': 32083396,\n",
      " 'deferred_income': -27992891,\n",
      " 'director_fees': 1398517,\n",
      " 'email_address': 'NaN',\n",
      " 'exercised_stock_options': 311764000,\n",
      " 'expenses': 5235198,\n",
      " 'from_messages': 'NaN',\n",
      " 'from_poi_to_this_person': 'NaN',\n",
      " 'from_this_person_to_poi': 'NaN',\n",
      " 'loan_advances': 83925000,\n",
      " 'long_term_incentive': 48521928,\n",
      " 'other': 42667589,\n",
      " 'poi': False,\n",
      " 'restricted_stock': 130322299,\n",
      " 'restricted_stock_deferred': -7576788,\n",
      " 'salary': 26704229,\n",
      " 'shared_receipt_with_poi': 'NaN',\n",
      " 'to_messages': 'NaN',\n",
      " 'total_payments': 309886585,\n",
      " 'total_stock_value': 434509511}\n",
      "{'bonus': 'NaN',\n",
      " 'deferral_payments': 'NaN',\n",
      " 'deferred_income': 'NaN',\n",
      " 'director_fees': 'NaN',\n",
      " 'email_address': 'NaN',\n",
      " 'exercised_stock_options': 'NaN',\n",
      " 'expenses': 'NaN',\n",
      " 'from_messages': 'NaN',\n",
      " 'from_poi_to_this_person': 'NaN',\n",
      " 'from_this_person_to_poi': 'NaN',\n",
      " 'loan_advances': 'NaN',\n",
      " 'long_term_incentive': 'NaN',\n",
      " 'other': 362096,\n",
      " 'poi': False,\n",
      " 'restricted_stock': 'NaN',\n",
      " 'restricted_stock_deferred': 'NaN',\n",
      " 'salary': 'NaN',\n",
      " 'shared_receipt_with_poi': 'NaN',\n",
      " 'to_messages': 'NaN',\n",
      " 'total_payments': 362096,\n",
      " 'total_stock_value': 'NaN'}\n"
     ]
    }
   ],
   "source": [
    "pprint.pprint(data_dict['TOTAL'])\n",
    "pprint.pprint(data_dict['THE TRAVEL AGENCY IN THE PARK'])"
   ]
  },
  {
   "cell_type": "markdown",
   "metadata": {},
   "source": [
    "Unsurprisingly, the values of TOTAL are a bit high. Obviously an outlier as that seems to show the total values of all financial features.\n",
    "\n",
    "Excluding 'other' and 'total_payments', the THE TRAVEL AGENCY IN THE PARK seems to only include NaN's. Therefore it seems like an outlier too."
   ]
  },
  {
   "cell_type": "code",
   "execution_count": 4,
   "metadata": {
    "collapsed": false
   },
   "outputs": [
    {
     "data": {
      "text/plain": [
       "{'bonus': 'NaN',\n",
       " 'deferral_payments': 'NaN',\n",
       " 'deferred_income': 'NaN',\n",
       " 'director_fees': 'NaN',\n",
       " 'email_address': 'NaN',\n",
       " 'exercised_stock_options': 'NaN',\n",
       " 'expenses': 'NaN',\n",
       " 'from_messages': 'NaN',\n",
       " 'from_poi_to_this_person': 'NaN',\n",
       " 'from_this_person_to_poi': 'NaN',\n",
       " 'loan_advances': 'NaN',\n",
       " 'long_term_incentive': 'NaN',\n",
       " 'other': 362096,\n",
       " 'poi': False,\n",
       " 'restricted_stock': 'NaN',\n",
       " 'restricted_stock_deferred': 'NaN',\n",
       " 'salary': 'NaN',\n",
       " 'shared_receipt_with_poi': 'NaN',\n",
       " 'to_messages': 'NaN',\n",
       " 'total_payments': 362096,\n",
       " 'total_stock_value': 'NaN'}"
      ]
     },
     "execution_count": 4,
     "metadata": {},
     "output_type": "execute_result"
    }
   ],
   "source": [
    "data_dict.pop('TOTAL', None)\n",
    "data_dict.pop('THE TRAVEL AGENCY IN THE PARK', None)"
   ]
  },
  {
   "cell_type": "markdown",
   "metadata": {},
   "source": [
    "Lets see the feature-types next:"
   ]
  },
  {
   "cell_type": "code",
   "execution_count": 5,
   "metadata": {
    "collapsed": false
   },
   "outputs": [
    {
     "name": "stdout",
     "output_type": "stream",
     "text": [
      "Feature types:\n",
      "\n",
      "salary <type 'int'>\n",
      "to_messages <type 'int'>\n",
      "deferral_payments <type 'str'>\n",
      "total_payments <type 'int'>\n",
      "exercised_stock_options <type 'str'>\n",
      "bonus <type 'int'>\n",
      "restricted_stock <type 'int'>\n",
      "shared_receipt_with_poi <type 'int'>\n",
      "restricted_stock_deferred <type 'str'>\n",
      "total_stock_value <type 'int'>\n",
      "expenses <type 'int'>\n",
      "loan_advances <type 'str'>\n",
      "from_messages <type 'int'>\n",
      "other <type 'int'>\n",
      "from_this_person_to_poi <type 'int'>\n",
      "poi <type 'bool'>\n",
      "director_fees <type 'str'>\n",
      "deferred_income <type 'str'>\n",
      "long_term_incentive <type 'str'>\n",
      "email_address <type 'str'>\n",
      "from_poi_to_this_person <type 'int'>\n"
     ]
    }
   ],
   "source": [
    "print 'Feature types:\\n'\n",
    "for key, value in data_dict.itervalues().next().iteritems():\n",
    "    print key,type(value)"
   ]
  },
  {
   "cell_type": "markdown",
   "metadata": {},
   "source": [
    "Lets format the data a bit so we can explore it easier."
   ]
  },
  {
   "cell_type": "code",
   "execution_count": 6,
   "metadata": {
    "collapsed": false
   },
   "outputs": [
    {
     "name": "stdout",
     "output_type": "stream",
     "text": [
      "[(name, max, min, mean)]\n",
      "[('poi', 1.0, 0.0, 0.12587412587412589),\n",
      " ('salary', 1111258.0, 0.0, 186742.86013986013),\n",
      " ('to_messages', 15149.0, 0.0, 1247.2167832167831),\n",
      " ('deferral_payments', 6426990.0, -102500.0, 223642.62937062938),\n",
      " ('total_payments', 103559793.0, 0.0, 2272322.5874125874),\n",
      " ('exercised_stock_options', 34348384.0, 0.0, 2090318.076923077),\n",
      " ('bonus', 8000000.0, 0.0, 680724.60839160834),\n",
      " ('restricted_stock', 14761694.0, -2604490.0, 874609.97202797199),\n",
      " ('shared_receipt_with_poi', 5521.0, 0.0, 707.52447552447552),\n",
      " ('restricted_stock_deferred', 15456290.0, -1787380.0, 73931.31468531469),\n",
      " ('total_stock_value', 49110078.0, -44093.0, 2930133.7622377621),\n",
      " ('expenses', 228763.0, 0.0, 35622.720279720277),\n",
      " ('loan_advances', 81525000.0, 0.0, 586888.11188811192),\n",
      " ('from_messages', 14368.0, 0.0, 366.12587412587413),\n",
      " ('other', 10359729.0, 0.0, 296806.69230769231),\n",
      " ('from_this_person_to_poi', 609.0, 0.0, 24.797202797202797),\n",
      " ('director_fees', 137864.0, 0.0, 10050.111888111887),\n",
      " ('deferred_income', 0.0, -3504386.0, -195037.69930069931),\n",
      " ('long_term_incentive', 5145434.0, 0.0, 339314.18181818182),\n",
      " ('from_poi_to_this_person', 528.0, 0.0, 39.027972027972027)]\n"
     ]
    }
   ],
   "source": [
    "import sys\n",
    "sys.path.append('/Users/tvikkula/Dev/python/datascience/' +\\\n",
    "          'machineLearn/ud120-projects/tools')\n",
    "sys.path.append('/Users/tvikkula/Dev/python/datascience/' +\\\n",
    "          'machineLearn/detect-enron-poi/')\n",
    "from preprocess import *\n",
    "from feature_format import featureFormat, targetFeatureSplit\n",
    "features_list = getallFeatures(data_dict)\n",
    "### Extract features and labels from dataset for local testing\n",
    "data = featureFormat(data_dict, features_list, sort_keys = True)\n",
    "\n",
    "print '[(name, max, min, mean)]'\n",
    "pprint.pprint(zip(features_list, data.max(axis=0), data.min(axis=0),\n",
    "                  data.mean(axis=0)))"
   ]
  },
  {
   "cell_type": "markdown",
   "metadata": {},
   "source": [
    "Lets see how many rows we have, and how many pois"
   ]
  },
  {
   "cell_type": "code",
   "execution_count": 7,
   "metadata": {
    "collapsed": false
   },
   "outputs": [
    {
     "name": "stdout",
     "output_type": "stream",
     "text": [
      "143\n",
      "18\n"
     ]
    }
   ],
   "source": [
    "# Number of features\n",
    "print len(data)\n",
    "# Number of POIs\n",
    "print sum(map(lambda x:x[0]==1, data))"
   ]
  },
  {
   "cell_type": "markdown",
   "metadata": {},
   "source": [
    "It seems there are only 143 rows in the data. That is incredibly low. It is curious to see how well can we predict poi's with a dataset this small. Out of the 143 rows, 18 are POIs."
   ]
  },
  {
   "cell_type": "markdown",
   "metadata": {},
   "source": [
    "Lets plot these features to see how the descriptive stats really look like. Before doing this, lets normalize each feature in order to not distort the visualization.\n",
    "\n",
    "The normalization function will be the following:\n",
    "\n",
    "$$X_{normalized} = \\frac{X - X_{min}}{X_{max} - X_{min}}"
   ]
  },
  {
   "cell_type": "code",
   "execution_count": 9,
   "metadata": {
    "collapsed": false
   },
   "outputs": [],
   "source": [
    "mins = np.min(data, axis=0)\n",
    "maxs = np.max(data, axis=0)\n",
    "data_normal = (data-mins)/(maxs-mins)"
   ]
  },
  {
   "cell_type": "markdown",
   "metadata": {},
   "source": [
    "After normalizing the data, lets make it a pandas dataframe"
   ]
  },
  {
   "cell_type": "code",
   "execution_count": 10,
   "metadata": {
    "collapsed": false
   },
   "outputs": [
    {
     "data": {
      "image/png": "[encoded data removed]",
      "text/plain": [
       "<matplotlib.figure.Figure at 0x103ea1c50>"
      ]
     },
     "metadata": {},
     "output_type": "display_data"
    }
   ],
   "source": [
    "plt.figure()\n",
    "plt.bar(np.arange(20), np.mean(data_normal, axis=0), 1,\n",
    "        yerr=np.std(data_normal, axis=0))\n",
    "plt.xticks(np.arange(0.5, 20, 1), features_list, rotation=90)\n",
    "plt.show()"
   ]
  },
  {
   "cell_type": "markdown",
   "metadata": {},
   "source": [
    "It should be noted that the normalized data was used to make it easier to visualize each feature in the same plot.\n",
    "\n",
    "Most of the mean-values are quite low, but the std's are a bit high. The deferred incomes seem quite high across the board.\n",
    "\n",
    "Lets see if the values differ on pois:"
   ]
  },
  {
   "cell_type": "code",
   "execution_count": 11,
   "metadata": {
    "collapsed": false
   },
   "outputs": [
    {
     "ename": "ValueError",
     "evalue": "operands could not be broadcast together with shapes (18,19) (20,) ",
     "output_type": "error",
     "traceback": [
      "\u001b[0;31m---------------------------------------------------------------------------\u001b[0m",
      "\u001b[0;31mValueError\u001b[0m                                Traceback (most recent call last)",
      "\u001b[0;32m<ipython-input-11-9f131304f203>\u001b[0m in \u001b[0;36m<module>\u001b[0;34m()\u001b[0m\n\u001b[1;32m     10\u001b[0m \u001b[0mmins\u001b[0m \u001b[0;34m=\u001b[0m \u001b[0mnp\u001b[0m\u001b[0;34m.\u001b[0m\u001b[0mmin\u001b[0m\u001b[0;34m(\u001b[0m\u001b[0mdata\u001b[0m\u001b[0;34m,\u001b[0m \u001b[0maxis\u001b[0m\u001b[0;34m=\u001b[0m\u001b[0;36m0\u001b[0m\u001b[0;34m)\u001b[0m\u001b[0;34m\u001b[0m\u001b[0m\n\u001b[1;32m     11\u001b[0m \u001b[0mmaxs\u001b[0m \u001b[0;34m=\u001b[0m \u001b[0mnp\u001b[0m\u001b[0;34m.\u001b[0m\u001b[0mmax\u001b[0m\u001b[0;34m(\u001b[0m\u001b[0mdata\u001b[0m\u001b[0;34m,\u001b[0m \u001b[0maxis\u001b[0m\u001b[0;34m=\u001b[0m\u001b[0;36m0\u001b[0m\u001b[0;34m)\u001b[0m\u001b[0;34m\u001b[0m\u001b[0m\n\u001b[0;32m---> 12\u001b[0;31m \u001b[0mpoidata_normal\u001b[0m \u001b[0;34m=\u001b[0m \u001b[0;34m(\u001b[0m\u001b[0mpoidata\u001b[0m\u001b[0;34m-\u001b[0m\u001b[0mmins\u001b[0m\u001b[0;34m)\u001b[0m\u001b[0;34m/\u001b[0m\u001b[0;34m(\u001b[0m\u001b[0mmaxs\u001b[0m\u001b[0;34m-\u001b[0m\u001b[0mmins\u001b[0m\u001b[0;34m)\u001b[0m\u001b[0;34m\u001b[0m\u001b[0m\n\u001b[0m\u001b[1;32m     13\u001b[0m \u001b[0;34m\u001b[0m\u001b[0m\n\u001b[1;32m     14\u001b[0m \u001b[0;31m# plot\u001b[0m\u001b[0;34m\u001b[0m\u001b[0;34m\u001b[0m\u001b[0m\n",
      "\u001b[0;31mValueError\u001b[0m: operands could not be broadcast together with shapes (18,19) (20,) "
     ]
    }
   ],
   "source": [
    "poidata = featureFormat(data_dict, getallFeatures(data_dict), sort_keys = True)\n",
    "\n",
    "# filter out non-pois:\n",
    "poidata = filter(lambda x: x[0] == 1, poidata)\n",
    "# delete poi-field\n",
    "\n",
    "poidata = np.delete(poidata, 0, 1)\n",
    "\n",
    "# scale\n",
    "mins = np.min(data, axis=0)\n",
    "maxs = np.max(data, axis=0)\n",
    "poidata_normal = (poidata-mins)/(maxs-mins)\n",
    "\n",
    "# plot\n",
    "plt.figure()\n",
    "plt.bar(np.arange(20), np.mean(poidata_normal, axis=0), 1,\n",
    "        yerr=np.std(poidata_normal, axis=0))\n",
    "plt.xticks(np.arange(0.5, 20, 1), features_list, rotation=90)\n",
    "plt.show()"
   ]
  },
  {
   "cell_type": "markdown",
   "metadata": {},
   "source": [
    "Note that the scaling was done on the value-space of all features to prevent scaling differences between plots.\n",
    "\n",
    "The chart does look a bit different for pois. Many of the values seem slightly higher for pois. Hopefully this is a promising sign for the learning model. \n",
    "\n",
    "Interestingly enough, none of the POIs have any director_fees. This may prove a good feature for the model or just signify that a vast majority of the feature values are null. Exploring the data further, it can be determined that most of the data in that feature are in fact NaN.\n",
    "\n",
    "Out of curiosity, lets make a quick look at the data to see the actual difference between mean values of pois and the whole dataset:"
   ]
  },
  {
   "cell_type": "code",
   "execution_count": 12,
   "metadata": {
    "collapsed": false
   },
   "outputs": [
    {
     "ename": "NameError",
     "evalue": "name 'poidata_normal' is not defined",
     "output_type": "error",
     "traceback": [
      "\u001b[0;31m---------------------------------------------------------------------------\u001b[0m",
      "\u001b[0;31mNameError\u001b[0m                                 Traceback (most recent call last)",
      "\u001b[0;32m<ipython-input-12-9e7144220f93>\u001b[0m in \u001b[0;36m<module>\u001b[0;34m()\u001b[0m\n\u001b[0;32m----> 1\u001b[0;31m \u001b[0mdata_subtract\u001b[0m \u001b[0;34m=\u001b[0m \u001b[0mnp\u001b[0m\u001b[0;34m.\u001b[0m\u001b[0mmean\u001b[0m\u001b[0;34m(\u001b[0m\u001b[0mdata_normal\u001b[0m\u001b[0;34m,\u001b[0m \u001b[0maxis\u001b[0m\u001b[0;34m=\u001b[0m\u001b[0;36m0\u001b[0m\u001b[0;34m)\u001b[0m \u001b[0;34m-\u001b[0m \u001b[0mnp\u001b[0m\u001b[0;34m.\u001b[0m\u001b[0mmean\u001b[0m\u001b[0;34m(\u001b[0m\u001b[0mpoidata_normal\u001b[0m\u001b[0;34m,\u001b[0m \u001b[0maxis\u001b[0m\u001b[0;34m=\u001b[0m\u001b[0;36m0\u001b[0m\u001b[0;34m)\u001b[0m\u001b[0;34m\u001b[0m\u001b[0m\n\u001b[0m\u001b[1;32m      2\u001b[0m \u001b[0;34m\u001b[0m\u001b[0m\n\u001b[1;32m      3\u001b[0m \u001b[0;31m# plot\u001b[0m\u001b[0;34m\u001b[0m\u001b[0;34m\u001b[0m\u001b[0m\n\u001b[1;32m      4\u001b[0m \u001b[0mplt\u001b[0m\u001b[0;34m.\u001b[0m\u001b[0mfigure\u001b[0m\u001b[0;34m(\u001b[0m\u001b[0;34m)\u001b[0m\u001b[0;34m\u001b[0m\u001b[0m\n\u001b[1;32m      5\u001b[0m plt.bar(np.arange(20), data_subtract, 1,\n",
      "\u001b[0;31mNameError\u001b[0m: name 'poidata_normal' is not defined"
     ]
    }
   ],
   "source": [
    "data_subtract = np.mean(data_normal, axis=0) - np.mean(poidata_normal, axis=0)\n",
    "\n",
    "# plot\n",
    "plt.figure()\n",
    "plt.bar(np.arange(20), data_subtract, 1,\n",
    "        yerr=np.std(data_subtract, axis=0))\n",
    "plt.xticks(np.arange(0.5, 20, 1), features_list, rotation=90)\n",
    "plt.show()"
   ]
  },
  {
   "cell_type": "markdown",
   "metadata": {},
   "source": [
    "In the plot, negative values mean that the POIs have higher values than the whole dataset. It seems that most features are higher for POIs, especially features like 'salary', 'exercised_stock_options', 'bonus', and 'total_stock_value'.\n",
    "\n",
    "'director_fees' and 'deferred_income' seem higher for non-POIs (hence the whole dataset values look higher than POI-values)."
   ]
  },
  {
   "cell_type": "markdown",
   "metadata": {},
   "source": [
    "Lets look at the deferred income distribution as its mean was suspiciously close to 1:"
   ]
  },
  {
   "cell_type": "code",
   "execution_count": 13,
   "metadata": {
    "collapsed": false
   },
   "outputs": [
    {
     "data": {
      "image/png": "[encoded data removed]",
      "text/plain": [
       "<matplotlib.figure.Figure at 0x1079a2ed0>"
      ]
     },
     "metadata": {},
     "output_type": "display_data"
    }
   ],
   "source": [
    "plt.figure()\n",
    "plt.hist(data[:,16])\n",
    "plt.show()"
   ]
  },
  {
   "cell_type": "markdown",
   "metadata": {},
   "source": [
    "It seems the majority of the values are 0, which means that the normalization of the values in the previous chart were a bit misleading."
   ]
  },
  {
   "cell_type": "markdown",
   "metadata": {
    "collapsed": true
   },
   "source": [
    "Lets build a hist of salary:"
   ]
  },
  {
   "cell_type": "code",
   "execution_count": 14,
   "metadata": {
    "collapsed": false
   },
   "outputs": [
    {
     "data": {
      "image/png": "[encoded data removed]",
      "text/plain": [
       "<matplotlib.figure.Figure at 0x107cbd7d0>"
      ]
     },
     "metadata": {},
     "output_type": "display_data"
    }
   ],
   "source": [
    "plt.figure()\n",
    "plt.hist(data[:,0])\n",
    "plt.show()"
   ]
  },
  {
   "cell_type": "markdown",
   "metadata": {},
   "source": [
    "There are a lot of people with low salaries"
   ]
  },
  {
   "cell_type": "code",
   "execution_count": 15,
   "metadata": {
    "collapsed": false
   },
   "outputs": [
    {
     "name": "stdout",
     "output_type": "stream",
     "text": [
      "BANNANTINE JAMES M 477\n",
      "LAY KENNETH L 1072321\n",
      "SKILLING JEFFREY K 1111258\n",
      "FREVERT MARK A 1060932\n",
      "deadbeats: 50\n"
     ]
    }
   ],
   "source": [
    "deadbeats = 0\n",
    "for key, value in data_dict.iteritems():\n",
    "    if value['salary'] == 'NaN':\n",
    "        deadbeats = deadbeats + 1\n",
    "    elif value['salary'] < 1000 or value['salary'] > 800000:\n",
    "        print key, value['salary']\n",
    "print 'deadbeats: ' + str(deadbeats)"
   ]
  },
  {
   "cell_type": "markdown",
   "metadata": {},
   "source": [
    "Out of the 144 datarows, 51 has no salary. The fact that so many data have no salary will be difficult when creating the learning model. Since so many of the dataset have no salary-data, they are difficult to omit from data (as that would omit 35% of our data).\n",
    "\n",
    "Lay, Skilling, and Frevert have very high salaries that clearly stand out from the rest.\n",
    "\n",
    "Another suspicios thing is that James Bannantine receives such a low salary. But I think this is more an interesting feature than an outlier. Lets see the data for James Bannantine:"
   ]
  },
  {
   "cell_type": "code",
   "execution_count": 16,
   "metadata": {
    "collapsed": false
   },
   "outputs": [
    {
     "name": "stdout",
     "output_type": "stream",
     "text": [
      "{'bonus': 'NaN',\n",
      " 'deferral_payments': 'NaN',\n",
      " 'deferred_income': -5104,\n",
      " 'director_fees': 'NaN',\n",
      " 'email_address': 'james.bannantine@enron.com',\n",
      " 'exercised_stock_options': 4046157,\n",
      " 'expenses': 56301,\n",
      " 'from_messages': 29,\n",
      " 'from_poi_to_this_person': 39,\n",
      " 'from_this_person_to_poi': 0,\n",
      " 'loan_advances': 'NaN',\n",
      " 'long_term_incentive': 'NaN',\n",
      " 'other': 864523,\n",
      " 'poi': False,\n",
      " 'restricted_stock': 1757552,\n",
      " 'restricted_stock_deferred': -560222,\n",
      " 'salary': 477,\n",
      " 'shared_receipt_with_poi': 465,\n",
      " 'to_messages': 566,\n",
      " 'total_payments': 916197,\n",
      " 'total_stock_value': 5243487}\n"
     ]
    }
   ],
   "source": [
    "pprint.pprint(data_dict['BANNANTINE JAMES M'])"
   ]
  },
  {
   "cell_type": "markdown",
   "metadata": {},
   "source": [
    "Seems he simply makes very little in terms of salary but his total payments are still quite high due to a high 'other'-value. Additionally his stock values are quite high. Despite these curious salary values, he is not considered a POI."
   ]
  },
  {
   "cell_type": "markdown",
   "metadata": {},
   "source": [
    "Lets look at the null-values in our other features:"
   ]
  },
  {
   "cell_type": "code",
   "execution_count": 17,
   "metadata": {
    "collapsed": false
   },
   "outputs": [
    {
     "name": "stdout",
     "output_type": "stream",
     "text": [
      "NaNs: 1334\n",
      "Zero values: 158\n",
      "{'bonus': 63,\n",
      " 'deferral_payments': 106,\n",
      " 'deferred_income': 96,\n",
      " 'director_fees': 128,\n",
      " 'email_address': 33,\n",
      " 'exercised_stock_options': 43,\n",
      " 'expenses': 50,\n",
      " 'from_messages': 58,\n",
      " 'from_poi_to_this_person': 58,\n",
      " 'from_this_person_to_poi': 58,\n",
      " 'loan_advances': 141,\n",
      " 'long_term_incentive': 79,\n",
      " 'other': 53,\n",
      " 'restricted_stock': 35,\n",
      " 'restricted_stock_deferred': 127,\n",
      " 'salary': 50,\n",
      " 'shared_receipt_with_poi': 58,\n",
      " 'to_messages': 58,\n",
      " 'total_payments': 21,\n",
      " 'total_stock_value': 19}\n"
     ]
    }
   ],
   "source": [
    "nans = {}\n",
    "nancount = 0\n",
    "zeros = 0\n",
    "for key, value in data_dict.iteritems():\n",
    "    for subkey in value.keys():\n",
    "        if value[subkey] == 'NaN':\n",
    "            nancount = nancount + 1\n",
    "            if not subkey in nans.keys():\n",
    "                nans[subkey] = 1\n",
    "            else:\n",
    "                nans[subkey] = nans[subkey] + 1\n",
    "        elif value[subkey] == 0:\n",
    "            zeros = zeros + 1\n",
    "print 'NaNs: ' + str(nancount)\n",
    "print 'Zero values: ' + str(zeros)\n",
    "pprint.pprint(nans)"
   ]
  },
  {
   "cell_type": "markdown",
   "metadata": {},
   "source": [
    "So many NaN's. 1352 in total. And quite a few in all features.\n",
    "\n",
    "But looking deeper at what the data is about, this is quite understandable. The data actually consists of features that make up the different forms in which enron employees receive payment - in terms of salary of stock options. Therefore these NaN-values are not really outliers but simply important pieces of the dataset.\n",
    "\n",
    "That said, the fact that features like 'deferral_payments', 'director_fees', and 'restricted_stock_deferred' consist of mostly NaN-values may affect the learning model."
   ]
  },
  {
   "cell_type": "markdown",
   "metadata": {},
   "source": [
    "After the data wrangling, lets save the dataset, both normalized and non-normalized versions."
   ]
  },
  {
   "cell_type": "code",
   "execution_count": 38,
   "metadata": {
    "collapsed": true
   },
   "outputs": [],
   "source": [
    "np.save(open('enrondata.pkl', 'wb'), data)\n",
    "np.save(open('erondata_normalized.pkl', 'wb'), data_normal)"
   ]
  }
 ],
 "metadata": {
  "kernelspec": {
   "display_name": "Python 2",
   "language": "python",
   "name": "python2"
  },
  "language_info": {
   "codemirror_mode": {
    "name": "ipython",
    "version": 2
   },
   "file_extension": ".py",
   "mimetype": "text/x-python",
   "name": "python",
   "nbconvert_exporter": "python",
   "pygments_lexer": "ipython2",
   "version": "2.7.9"
  }
 },
 "nbformat": 4,
 "nbformat_minor": 0
}
